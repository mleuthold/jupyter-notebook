{
 "cells": [
  {
   "cell_type": "markdown",
   "metadata": {},
   "source": [
    "make this notebook executable with arguments by papermill"
   ]
  },
  {
   "cell_type": "code",
   "execution_count": 43,
   "metadata": {
    "tags": [
     "parameters"
    ]
   },
   "outputs": [],
   "source": [
    "ISIN = 'DE000A0H08M3'"
   ]
  },
  {
   "cell_type": "markdown",
   "metadata": {},
   "source": [
    "initialize Spark environment"
   ]
  },
  {
   "cell_type": "code",
   "execution_count": 1,
   "metadata": {},
   "outputs": [],
   "source": [
    "import findspark\n",
    "findspark.init()\n",
    "\n",
    "import pyspark"
   ]
  },
  {
   "cell_type": "code",
   "execution_count": 2,
   "metadata": {},
   "outputs": [],
   "source": [
    "from pyspark.sql import SparkSession\n",
    "\n",
    "spark = SparkSession.builder.appName(\"SimpleApp\").getOrCreate()"
   ]
  },
  {
   "cell_type": "markdown",
   "metadata": {},
   "source": [
    "download part of online data set to local machine"
   ]
  },
  {
   "cell_type": "code",
   "execution_count": 42,
   "metadata": {},
   "outputs": [
    {
     "name": "stdout",
     "output_type": "stream",
     "text": [
      "aws s3 sync s3://deutsche-boerse-xetra-pds data --exclude \"*\" --include \"*2019-09*\" --exclude \"*$(date +\"%Y-%m-%d\")*\"\r\n"
     ]
    }
   ],
   "source": [
    "! task sync.files"
   ]
  },
  {
   "cell_type": "markdown",
   "metadata": {},
   "source": [
    "read whole data set"
   ]
  },
  {
   "cell_type": "code",
   "execution_count": 14,
   "metadata": {},
   "outputs": [],
   "source": [
    "data = spark.read.format(\"csv\").option(\"header\", \"true\").option(\"inferSchema\", \"true\").load(\"./data/*\")"
   ]
  },
  {
   "cell_type": "code",
   "execution_count": 15,
   "metadata": {},
   "outputs": [
    {
     "name": "stdout",
     "output_type": "stream",
     "text": [
      "root\n",
      " |-- ISIN: string (nullable = true)\n",
      " |-- Mnemonic: string (nullable = true)\n",
      " |-- SecurityDesc: string (nullable = true)\n",
      " |-- SecurityType: string (nullable = true)\n",
      " |-- Currency: string (nullable = true)\n",
      " |-- SecurityID: integer (nullable = true)\n",
      " |-- Date: timestamp (nullable = true)\n",
      " |-- Time: string (nullable = true)\n",
      " |-- StartPrice: double (nullable = true)\n",
      " |-- MaxPrice: double (nullable = true)\n",
      " |-- MinPrice: double (nullable = true)\n",
      " |-- EndPrice: double (nullable = true)\n",
      " |-- TradedVolume: integer (nullable = true)\n",
      " |-- NumberOfTrades: integer (nullable = true)\n",
      "\n"
     ]
    }
   ],
   "source": [
    "data.printSchema()"
   ]
  },
  {
   "cell_type": "code",
   "execution_count": 16,
   "metadata": {},
   "outputs": [
    {
     "name": "stdout",
     "output_type": "stream",
     "text": [
      "+-------------------+-----+\n",
      "|               Date|count|\n",
      "+-------------------+-----+\n",
      "|2018-01-02 00:00:00|68154|\n",
      "|2018-01-03 00:00:00|70608|\n",
      "|2019-09-02 00:00:00|65223|\n",
      "|2019-09-03 00:00:00|69577|\n",
      "|2019-09-04 00:00:00|67250|\n",
      "|2019-09-05 00:00:00|73780|\n",
      "|2019-09-06 00:00:00|70237|\n",
      "|2019-09-08 00:00:00| 2652|\n",
      "|2019-09-09 00:00:00|66905|\n",
      "|2019-09-10 00:00:00|74799|\n",
      "|2019-09-11 00:00:00|75005|\n",
      "|2019-09-12 00:00:00|80295|\n",
      "|2019-09-13 00:00:00|69910|\n",
      "|2019-09-16 00:00:00|69910|\n",
      "|2019-09-17 00:00:00|71067|\n",
      "|2019-09-18 00:00:00|64271|\n",
      "|2019-09-19 00:00:00|69321|\n",
      "|2019-09-20 00:00:00|69135|\n",
      "|2019-09-21 00:00:00|   26|\n",
      "|2019-09-22 00:00:00| 2657|\n",
      "|2019-09-23 00:00:00|68893|\n",
      "|2019-09-24 00:00:00|67511|\n",
      "+-------------------+-----+\n",
      "\n"
     ]
    }
   ],
   "source": [
    "data.groupBy(data.Date).count().orderBy(data.Date).show(35)"
   ]
  },
  {
   "cell_type": "markdown",
   "metadata": {},
   "source": [
    "use Spark SQL to apply Analytic Functions"
   ]
  },
  {
   "cell_type": "code",
   "execution_count": 17,
   "metadata": {},
   "outputs": [],
   "source": [
    "data.createOrReplaceTempView(\"data\")"
   ]
  },
  {
   "cell_type": "markdown",
   "metadata": {},
   "source": [
    "choose an ISIN from the data exploration example"
   ]
  },
  {
   "cell_type": "code",
   "execution_count": 44,
   "metadata": {},
   "outputs": [],
   "source": [
    "# removed in favour of papermill parameters\n",
    "# ISIN = 'DE000A0H08M3'"
   ]
  },
  {
   "cell_type": "markdown",
   "metadata": {},
   "source": [
    "step 1/2 - prepare result set"
   ]
  },
  {
   "cell_type": "code",
   "execution_count": 31,
   "metadata": {},
   "outputs": [
    {
     "name": "stdout",
     "output_type": "stream",
     "text": [
      "+------------+-------------------+-----+----------+---------------+--------+------------+------------+\n",
      "|        ISIN|               Date| Time|StartPrice|FirstStartPrice|EndPrice|LastEndPrice|TradedVolume|\n",
      "+------------+-------------------+-----+----------+---------------+--------+------------+------------+\n",
      "|DE000A0H08M3|2019-09-03 00:00:00|04:00|    30.565|         30.565|  30.565|      30.565|           0|\n",
      "|DE000A0H08M3|2019-09-03 00:00:00|07:04|    30.545|         30.565|  30.545|      30.545|          65|\n",
      "|DE000A0H08M3|2019-09-03 00:00:00|07:11|     30.48|         30.565|   30.48|       30.48|         155|\n",
      "|DE000A0H08M3|2019-09-03 00:00:00|07:25|    30.475|         30.565|  30.475|      30.475|         300|\n",
      "|DE000A0H08M3|2019-09-03 00:00:00|07:31|    30.495|         30.565|  30.495|      30.495|         522|\n",
      "|DE000A0H08M3|2019-09-03 00:00:00|07:51|     30.48|         30.565|   30.48|       30.48|         964|\n",
      "|DE000A0H08M3|2019-09-03 00:00:00|07:53|    30.465|         30.565|  30.465|      30.465|         350|\n",
      "|DE000A0H08M3|2019-09-03 00:00:00|07:55|    30.465|         30.565|  30.465|      30.465|         234|\n",
      "|DE000A0H08M3|2019-09-03 00:00:00|08:05|     30.48|         30.565|   30.48|       30.48|         155|\n",
      "|DE000A0H08M3|2019-09-03 00:00:00|08:14|    30.505|         30.565|  30.505|      30.505|         820|\n",
      "|DE000A0H08M3|2019-09-03 00:00:00|08:37|    30.395|         30.565|  30.395|      30.395|         150|\n",
      "|DE000A0H08M3|2019-09-03 00:00:00|08:38|     30.41|         30.565|   30.41|       30.41|          80|\n",
      "|DE000A0H08M3|2019-09-03 00:00:00|08:54|     30.39|         30.565|   30.39|       30.39|         201|\n",
      "|DE000A0H08M3|2019-09-03 00:00:00|09:02|    30.425|         30.565|  30.425|      30.425|        1439|\n",
      "|DE000A0H08M3|2019-09-03 00:00:00|09:20|     30.42|         30.565|  30.415|      30.415|         160|\n",
      "|DE000A0H08M3|2019-09-03 00:00:00|09:26|     30.39|         30.565|   30.39|       30.39|           5|\n",
      "|DE000A0H08M3|2019-09-03 00:00:00|09:58|    30.305|         30.565|  30.305|      30.305|        1206|\n",
      "|DE000A0H08M3|2019-09-03 00:00:00|10:25|     30.35|         30.565|   30.35|       30.35|         500|\n",
      "|DE000A0H08M3|2019-09-03 00:00:00|10:30|     30.34|         30.565|   30.34|       30.34|          16|\n",
      "|DE000A0H08M3|2019-09-03 00:00:00|11:12|     30.28|         30.565|   30.28|       30.28|           0|\n",
      "+------------+-------------------+-----+----------+---------------+--------+------------+------------+\n",
      "only showing top 20 rows\n",
      "\n"
     ]
    }
   ],
   "source": [
    "spark.sql(f\"\"\"\n",
    "SELECT \n",
    "    ISIN, \n",
    "    Date, \n",
    "    Time, \n",
    "    StartPrice, \n",
    "    First_value(StartPrice) OVER ( partition BY Date ORDER BY Time) AS FirstStartPrice, \n",
    "    EndPrice, \n",
    "    Last_value(EndPrice) OVER ( partition BY Date ORDER BY Time) AS LastEndPrice, \n",
    "    TradedVolume\n",
    "FROM data \n",
    "WHERE ISIN = '{ISIN}' \n",
    "-- AND Date = '2018-01-03' \n",
    "-- AND TIME BETWEEN '08:00' AND '09:00'\n",
    "\"\"\").createOrReplaceTempView(\"tmp\")\n",
    "\n",
    "spark.sql(\"SELECT * FROM tmp\").show()"
   ]
  },
  {
   "cell_type": "markdown",
   "metadata": {},
   "source": [
    "step 2/2 - aggregate result set"
   ]
  },
  {
   "cell_type": "code",
   "execution_count": 32,
   "metadata": {},
   "outputs": [
    {
     "name": "stdout",
     "output_type": "stream",
     "text": [
      "+------------+-------------------+------------+------------+-----------------+------------+\n",
      "|        ISIN|               Date|OpeningPrice|ClosingPrice|DailyTradedVolume|PctChgPrvCls|\n",
      "+------------+-------------------+------------+------------+-----------------+------------+\n",
      "|DE000A0H08M3|2018-01-02 00:00:00|       31.61|        31.6|           433588|        null|\n",
      "|DE000A0H08M3|2018-01-03 00:00:00|      31.855|      32.075|           251182|        1.50|\n",
      "|DE000A0H08M3|2019-09-02 00:00:00|       30.54|      30.565|            47694|       -4.71|\n",
      "|DE000A0H08M3|2019-09-03 00:00:00|      30.565|       30.29|            12431|       -0.90|\n",
      "|DE000A0H08M3|2019-09-04 00:00:00|       30.29|       30.66|            38723|        1.22|\n",
      "|DE000A0H08M3|2019-09-05 00:00:00|       30.66|      31.195|            28348|        1.74|\n",
      "|DE000A0H08M3|2019-09-06 00:00:00|      31.195|       30.85|            39453|       -1.11|\n",
      "|DE000A0H08M3|2019-09-08 00:00:00|       30.85|       30.85|                0|        0.00|\n",
      "|DE000A0H08M3|2019-09-09 00:00:00|      31.085|       31.23|            13059|        1.23|\n",
      "|DE000A0H08M3|2019-09-10 00:00:00|       31.23|      31.865|            62853|        2.03|\n",
      "|DE000A0H08M3|2019-09-11 00:00:00|      31.865|      31.835|            40772|       -0.09|\n",
      "|DE000A0H08M3|2019-09-12 00:00:00|      31.835|       31.42|            69554|       -1.30|\n",
      "|DE000A0H08M3|2019-09-13 00:00:00|       31.42|      31.555|            67551|        0.43|\n",
      "|DE000A0H08M3|2019-09-16 00:00:00|      32.495|       32.47|           190072|        2.90|\n",
      "|DE000A0H08M3|2019-09-17 00:00:00|       32.47|       32.23|           104333|       -0.74|\n",
      "|DE000A0H08M3|2019-09-18 00:00:00|       32.23|      32.335|           151389|        0.33|\n",
      "|DE000A0H08M3|2019-09-19 00:00:00|      32.335|      32.485|           214190|        0.46|\n",
      "|DE000A0H08M3|2019-09-20 00:00:00|      32.485|       32.82|           536527|        1.03|\n",
      "|DE000A0H08M3|2019-09-22 00:00:00|       32.82|       32.82|                0|        0.00|\n",
      "|DE000A0H08M3|2019-09-23 00:00:00|      32.925|      32.595|           123195|       -0.69|\n",
      "|DE000A0H08M3|2019-09-24 00:00:00|      32.595|      32.195|            45309|       -1.23|\n",
      "+------------+-------------------+------------+------------+-----------------+------------+\n",
      "\n"
     ]
    }
   ],
   "source": [
    "spark.sql(\"\"\"\n",
    "SELECT \n",
    "    ISIN, \n",
    "    Date, \n",
    "    FirstStartPrice AS OpeningPrice, \n",
    "    last(LastEndPrice) AS ClosingPrice, \n",
    "    sum(TradedVolume) AS DailyTradedVolume, \n",
    "    format_number(last(LastEndPrice) / Lag(last(LastEndPrice)) OVER (partition BY ISIN ORDER BY Date) *100 -100,2) AS PctChgPrvCls \n",
    "FROM tmp \n",
    "GROUP BY 1, 2, 3\"\"\").createOrReplaceTempView(\"result_set\")\n",
    "\n",
    "spark.sql(\"SELECT * FROM result_set\").show(35)"
   ]
  },
  {
   "cell_type": "markdown",
   "metadata": {},
   "source": [
    "save result set to disk"
   ]
  },
  {
   "cell_type": "code",
   "execution_count": 36,
   "metadata": {},
   "outputs": [],
   "source": [
    "spark.sql(\"SELECT * FROM result_set\") \\\n",
    ".repartition(1) \\\n",
    ".write \\\n",
    ".mode (\"overwrite\") \\\n",
    ".format(\"csv\") \\\n",
    ".option(\"header\", \"true\") \\\n",
    ".save(\"output\")"
   ]
  },
  {
   "cell_type": "code",
   "execution_count": 40,
   "metadata": {},
   "outputs": [
    {
     "name": "stdout",
     "output_type": "stream",
     "text": [
      "rm -f output/_SUCCESS\r\n",
      "rm -f output/.*.crc\r\n",
      "mv -u output/*.csv output/result_set.csv || true\r\n",
      "mv: 'output/result_set.csv' and 'output/result_set.csv' are the same file\r\n"
     ]
    }
   ],
   "source": [
    "! task clean.output"
   ]
  },
  {
   "cell_type": "code",
   "execution_count": null,
   "metadata": {},
   "outputs": [],
   "source": []
  }
 ],
 "metadata": {
  "celltoolbar": "Tags",
  "kernelspec": {
   "display_name": "Python 3",
   "language": "python",
   "name": "python3"
  },
  "language_info": {
   "codemirror_mode": {
    "name": "ipython",
    "version": 3
   },
   "file_extension": ".py",
   "mimetype": "text/x-python",
   "name": "python",
   "nbconvert_exporter": "python",
   "pygments_lexer": "ipython3",
   "version": "3.7.3"
  }
 },
 "nbformat": 4,
 "nbformat_minor": 2
}
