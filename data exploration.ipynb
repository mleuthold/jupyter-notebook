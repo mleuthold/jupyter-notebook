{
 "cells": [
  {
   "cell_type": "code",
   "execution_count": 1,
   "metadata": {},
   "outputs": [
    {
     "name": "stdout",
     "output_type": "stream",
     "text": [
      "2018-04-04 20:03:45        136 2018-01-01_BINS_XETR00.csv\r\n",
      "2018-04-04 20:03:45        136 2018-01-01_BINS_XETR01.csv\r\n",
      "2018-04-04 20:03:45        136 2018-01-01_BINS_XETR02.csv\r\n",
      "2018-04-04 20:03:45        136 2018-01-01_BINS_XETR03.csv\r\n",
      "2018-04-04 20:03:45        136 2018-01-01_BINS_XETR04.csv\r\n",
      "2018-04-04 20:03:45        136 2018-01-01_BINS_XETR05.csv\r\n",
      "2018-04-04 20:03:45        136 2018-01-01_BINS_XETR06.csv\r\n",
      "2018-04-04 20:03:45        136 2018-01-01_BINS_XETR07.csv\r\n",
      "2018-04-04 20:03:45        136 2018-01-01_BINS_XETR08.csv\r\n",
      "2018-04-04 20:03:45        136 2018-01-01_BINS_XETR09.csv\r\n",
      "2018-04-04 20:03:45        136 2018-01-01_BINS_XETR10.csv\r\n",
      "2018-04-04 20:03:45        136 2018-01-01_BINS_XETR11.csv\r\n",
      "2018-04-04 20:03:45        136 2018-01-01_BINS_XETR12.csv\r\n",
      "2018-04-04 20:03:45        136 2018-01-01_BINS_XETR13.csv\r\n",
      "2018-04-04 20:03:45        136 2018-01-01_BINS_XETR14.csv\r\n",
      "2018-04-04 20:03:45        136 2018-01-01_BINS_XETR15.csv\r\n",
      "2018-04-04 20:03:45        136 2018-01-01_BINS_XETR16.csv\r\n",
      "2018-04-04 20:03:45        136 2018-01-01_BINS_XETR17.csv\r\n",
      "2018-04-04 20:03:45        136 2018-01-01_BINS_XETR18.csv\r\n",
      "2018-04-04 20:03:45        136 2018-01-01_BINS_XETR19.csv\r\n",
      "2018-04-04 20:03:45        136 2018-01-01_BINS_XETR20.csv\r\n",
      "2018-04-04 20:03:45        136 2018-01-01_BINS_XETR21.csv\r\n",
      "2018-04-04 20:03:45        136 2018-01-01_BINS_XETR22.csv\r\n",
      "2018-04-04 20:03:45        136 2018-01-01_BINS_XETR23.csv\r\n"
     ]
    }
   ],
   "source": [
    "! aws s3 ls s3://deutsche-boerse-xetra-pds/2018-01-01/"
   ]
  },
  {
   "cell_type": "code",
   "execution_count": 6,
   "metadata": {},
   "outputs": [
    {
     "name": "stdout",
     "output_type": "stream",
     "text": [
      "2018-04-04 20:03:45        136 2018-01-02_BINS_XETR00.csv\r\n",
      "2018-04-04 20:03:45        136 2018-01-02_BINS_XETR01.csv\r\n",
      "2018-04-04 20:03:45        136 2018-01-02_BINS_XETR02.csv\r\n",
      "2018-04-04 20:03:45        136 2018-01-02_BINS_XETR03.csv\r\n",
      "2018-04-04 20:03:45        136 2018-01-02_BINS_XETR04.csv\r\n",
      "2018-04-04 20:03:45       1106 2018-01-02_BINS_XETR05.csv\r\n",
      "2018-04-04 20:03:45        136 2018-01-02_BINS_XETR06.csv\r\n",
      "2018-04-04 20:03:45        136 2018-01-02_BINS_XETR07.csv\r\n",
      "2018-04-04 20:03:45     981913 2018-01-02_BINS_XETR08.csv\r\n",
      "2018-04-04 20:03:45     973324 2018-01-02_BINS_XETR09.csv\r\n",
      "2018-04-04 20:03:45     909783 2018-01-02_BINS_XETR10.csv\r\n",
      "2018-04-04 20:03:45     780858 2018-01-02_BINS_XETR11.csv\r\n",
      "2018-04-04 20:03:45     725804 2018-01-02_BINS_XETR12.csv\r\n",
      "2018-04-04 20:03:45     774361 2018-01-02_BINS_XETR13.csv\r\n",
      "2018-04-04 20:03:45    1039513 2018-01-02_BINS_XETR14.csv\r\n",
      "2018-04-04 20:03:45    1152927 2018-01-02_BINS_XETR15.csv\r\n",
      "2018-04-04 20:03:45     744488 2018-01-02_BINS_XETR16.csv\r\n",
      "2018-04-04 20:03:45        136 2018-01-02_BINS_XETR17.csv\r\n",
      "2018-04-04 20:03:46        136 2018-01-02_BINS_XETR18.csv\r\n",
      "2018-04-04 20:03:46        136 2018-01-02_BINS_XETR19.csv\r\n",
      "2018-04-04 20:03:46        136 2018-01-02_BINS_XETR20.csv\r\n",
      "2018-04-04 20:03:46        136 2018-01-02_BINS_XETR21.csv\r\n",
      "2018-04-04 20:03:46        136 2018-01-02_BINS_XETR22.csv\r\n",
      "2018-04-04 20:03:46        136 2018-01-02_BINS_XETR23.csv\r\n"
     ]
    }
   ],
   "source": [
    "! aws s3 ls s3://deutsche-boerse-xetra-pds/2018-01-02/"
   ]
  },
  {
   "cell_type": "code",
   "execution_count": 2,
   "metadata": {},
   "outputs": [
    {
     "name": "stdout",
     "output_type": "stream",
     "text": [
      "download: s3://deutsche-boerse-xetra-pds/2018-01-02/2018-01-02_BINS_XETR06.csv to data/2018-01-02/2018-01-02_BINS_XETR06.csv\n",
      "download: s3://deutsche-boerse-xetra-pds/2018-01-02/2018-01-02_BINS_XETR02.csv to data/2018-01-02/2018-01-02_BINS_XETR02.csv\n",
      "download: s3://deutsche-boerse-xetra-pds/2018-01-02/2018-01-02_BINS_XETR01.csv to data/2018-01-02/2018-01-02_BINS_XETR01.csv\n",
      "download: s3://deutsche-boerse-xetra-pds/2018-01-02/2018-01-02_BINS_XETR05.csv to data/2018-01-02/2018-01-02_BINS_XETR05.csv\n",
      "download: s3://deutsche-boerse-xetra-pds/2018-01-02/2018-01-02_BINS_XETR00.csv to data/2018-01-02/2018-01-02_BINS_XETR00.csv\n",
      "download: s3://deutsche-boerse-xetra-pds/2018-01-02/2018-01-02_BINS_XETR04.csv to data/2018-01-02/2018-01-02_BINS_XETR04.csv\n",
      "download: s3://deutsche-boerse-xetra-pds/2018-01-02/2018-01-02_BINS_XETR03.csv to data/2018-01-02/2018-01-02_BINS_XETR03.csv\n",
      "download: s3://deutsche-boerse-xetra-pds/2018-01-02/2018-01-02_BINS_XETR07.csv to data/2018-01-02/2018-01-02_BINS_XETR07.csv\n",
      "download: s3://deutsche-boerse-xetra-pds/2018-01-02/2018-01-02_BINS_XETR17.csv to data/2018-01-02/2018-01-02_BINS_XETR17.csv\n",
      "download: s3://deutsche-boerse-xetra-pds/2018-01-02/2018-01-02_BINS_XETR19.csv to data/2018-01-02/2018-01-02_BINS_XETR19.csv\n",
      "download: s3://deutsche-boerse-xetra-pds/2018-01-02/2018-01-02_BINS_XETR18.csv to data/2018-01-02/2018-01-02_BINS_XETR18.csv\n",
      "download: s3://deutsche-boerse-xetra-pds/2018-01-02/2018-01-02_BINS_XETR20.csv to data/2018-01-02/2018-01-02_BINS_XETR20.csv\n",
      "download: s3://deutsche-boerse-xetra-pds/2018-01-02/2018-01-02_BINS_XETR22.csv to data/2018-01-02/2018-01-02_BINS_XETR22.csv\n",
      "download: s3://deutsche-boerse-xetra-pds/2018-01-02/2018-01-02_BINS_XETR21.csv to data/2018-01-02/2018-01-02_BINS_XETR21.csv\n",
      "download: s3://deutsche-boerse-xetra-pds/2018-01-02/2018-01-02_BINS_XETR23.csv to data/2018-01-02/2018-01-02_BINS_XETR23.csv\n",
      "download: s3://deutsche-boerse-xetra-pds/2018-01-02/2018-01-02_BINS_XETR09.csv to data/2018-01-02/2018-01-02_BINS_XETR09.csv\n",
      "download: s3://deutsche-boerse-xetra-pds/2018-01-02/2018-01-02_BINS_XETR11.csv to data/2018-01-02/2018-01-02_BINS_XETR11.csv\n",
      "download: s3://deutsche-boerse-xetra-pds/2018-01-02/2018-01-02_BINS_XETR13.csv to data/2018-01-02/2018-01-02_BINS_XETR13.csv\n",
      "download: s3://deutsche-boerse-xetra-pds/2018-01-02/2018-01-02_BINS_XETR12.csv to data/2018-01-02/2018-01-02_BINS_XETR12.csv\n",
      "download: s3://deutsche-boerse-xetra-pds/2018-01-02/2018-01-02_BINS_XETR10.csv to data/2018-01-02/2018-01-02_BINS_XETR10.csv\n",
      "download: s3://deutsche-boerse-xetra-pds/2018-01-02/2018-01-02_BINS_XETR08.csv to data/2018-01-02/2018-01-02_BINS_XETR08.csv\n",
      "download: s3://deutsche-boerse-xetra-pds/2018-01-02/2018-01-02_BINS_XETR14.csv to data/2018-01-02/2018-01-02_BINS_XETR14.csv\n",
      "download: s3://deutsche-boerse-xetra-pds/2018-01-02/2018-01-02_BINS_XETR15.csv to data/2018-01-02/2018-01-02_BINS_XETR15.csv\n",
      "download: s3://deutsche-boerse-xetra-pds/2018-01-02/2018-01-02_BINS_XETR16.csv to data/2018-01-02/2018-01-02_BINS_XETR16.csv\n"
     ]
    }
   ],
   "source": [
    "! aws s3 cp s3://deutsche-boerse-xetra-pds/2018-01-02/ ./data/2018-01-02/ --recursive"
   ]
  },
  {
   "cell_type": "code",
   "execution_count": 8,
   "metadata": {},
   "outputs": [],
   "source": [
    "# TODO can be omitted, because Kafka nor S3 are directly used\n",
    "import os\n",
    "os.environ['PYSPARK_SUBMIT_ARGS'] = '--packages org.apache.spark:spark-sql-kafka-0-10_2.11:2.4.4,org.apache.hadoop:hadoop-aws:2.7.3 pyspark-shell'"
   ]
  },
  {
   "cell_type": "code",
   "execution_count": 1,
   "metadata": {},
   "outputs": [],
   "source": [
    "import findspark\n",
    "findspark.init()\n",
    "\n",
    "import pyspark"
   ]
  },
  {
   "cell_type": "code",
   "execution_count": 2,
   "metadata": {},
   "outputs": [],
   "source": [
    "from pyspark.sql import SparkSession\n",
    "\n",
    "spark = SparkSession.builder.appName(\"SimpleApp\").getOrCreate()"
   ]
  },
  {
   "cell_type": "code",
   "execution_count": 3,
   "metadata": {},
   "outputs": [
    {
     "data": {
      "text/html": [
       "\n",
       "            <div>\n",
       "                <p><b>SparkSession - in-memory</b></p>\n",
       "                \n",
       "        <div>\n",
       "            <p><b>SparkContext</b></p>\n",
       "\n",
       "            <p><a href=\"http://lenovo.fritz.box:4040\">Spark UI</a></p>\n",
       "\n",
       "            <dl>\n",
       "              <dt>Version</dt>\n",
       "                <dd><code>v2.4.4</code></dd>\n",
       "              <dt>Master</dt>\n",
       "                <dd><code>local[*]</code></dd>\n",
       "              <dt>AppName</dt>\n",
       "                <dd><code>SimpleApp</code></dd>\n",
       "            </dl>\n",
       "        </div>\n",
       "        \n",
       "            </div>\n",
       "        "
      ],
      "text/plain": [
       "<pyspark.sql.session.SparkSession at 0x7fd04bfd11d0>"
      ]
     },
     "execution_count": 3,
     "metadata": {},
     "output_type": "execute_result"
    }
   ],
   "source": [
    "spark"
   ]
  },
  {
   "cell_type": "code",
   "execution_count": 14,
   "metadata": {},
   "outputs": [
    {
     "name": "stdout",
     "output_type": "stream",
     "text": [
      "+------------+--------+--------------------+------------+--------+----------+----------+-----+----------+--------+--------+--------+------------+--------------+\n",
      "|        ISIN|Mnemonic|        SecurityDesc|SecurityType|Currency|SecurityID|      Date| Time|StartPrice|MaxPrice|MinPrice|EndPrice|TradedVolume|NumberOfTrades|\n",
      "+------------+--------+--------------------+------------+--------+----------+----------+-----+----------+--------+--------+--------+------------+--------------+\n",
      "|AT0000A0E9W5|    SANT|S+T AG (Z.REG.MK....|Common stock|     EUR|   2504159|2018-01-02|15:00|     19.19|   19.19|   19.19|   19.19|         100|             1|\n",
      "|AT0000743059|     OMV|              OMV AG|Common stock|     EUR|   2504175|2018-01-02|15:00|     53.28|   53.28|   53.28|   53.28|          18|             1|\n",
      "|AT0000969985|     AUS|AT+S AUSTR.T.+SYS...|Common stock|     EUR|   2504191|2018-01-02|15:00|     24.15|    24.2|   24.15|   24.15|         401|             3|\n",
      "|CA32076V1031|     FMV|FIRST MAJESTIC SI...|Common stock|     EUR|   2504197|2018-01-02|15:00|      5.84|    5.84|    5.84|    5.84|         203|             1|\n",
      "|DE0005933931|    EXS1|ISHS CORE DAX UCI...|         ETF|     EUR|   2504265|2018-01-02|15:00|    111.44|  111.44|  111.42|  111.42|         527|             2|\n",
      "|LU0274211480|    DBXD|DB X-TRACK.DAX ET...|         ETF|     EUR|   2504269|2018-01-02|15:00|    125.26|  125.32|  125.26|  125.32|        2465|             2|\n",
      "|DE000A0B9N37|     A8A|   JDC GROUP AG O.N.|Common stock|     EUR|   2504284|2018-01-02|15:00|         9|       9|       9|       9|        1050|             1|\n",
      "|DE000A0CAYB2|     WIN|DIEBOLD NIXDORF  ...|Common stock|     EUR|   2504286|2018-01-02|15:00|      73.7|    73.7|    73.7|    73.7|          63|             1|\n",
      "|DE000A0D6554|    NDX1|      NORDEX SE O.N.|Common stock|     EUR|   2504290|2018-01-02|15:00|     9.206|    9.22|     9.2|     9.2|        1426|             5|\n",
      "|DE000A0D8QZ7|    EXSE|ISH.S.EUR.SMALL 2...|         ETF|     EUR|   2504291|2018-01-02|15:00|     28.63|   28.63|   28.63|   28.63|         750|             1|\n",
      "|DE000A0D8Q07|    EXSI|ISHARES EURO STOX...|         ETF|     EUR|   2504292|2018-01-02|15:00|     37.96|   37.96|   37.96|   37.96|         784|             1|\n",
      "|DE000A0HGQF5|     MF6|         MAGFORCE AG|Common stock|     EUR|   2504308|2018-01-02|15:00|       6.5|    6.51|     6.5|    6.51|         650|             2|\n",
      "|DE000A0HHJR3|    CLIQ|CLIQ DIGITAL AG  ...|Common stock|     EUR|   2504310|2018-01-02|15:00|      8.46|    8.46|    8.46|    8.46|           9|             1|\n",
      "|DE000A0HN5C6|    DWNI|DEUTSCHE WOHNEN S...|Common stock|     EUR|   2504314|2018-01-02|15:00|     35.72|   35.72|   35.72|   35.72|         258|             2|\n",
      "|DE000A0H08M3|    EXH1|IS.S.E.600 OIL+G....|         ETF|     EUR|   2504330|2018-01-02|15:00|    31.575|   31.58|   31.57|   31.57|        3383|             6|\n",
      "|DE000A0JKHC9|     N7G|NANOGATE SE  INH....|Common stock|     EUR|   2504339|2018-01-02|15:00|     46.65|   46.65|   46.65|   46.65|           8|             1|\n",
      "|DE000A0JK2A8|     AR4|AURELIUS EQ.OPP. ...|Common stock|     EUR|   2504340|2018-01-02|15:00|     57.45|   57.45|   57.45|   57.45|         289|             2|\n",
      "|DE000A0JL9W6|     VBK|VERBIO VER.BIOENE...|Common stock|     EUR|   2504343|2018-01-02|15:00|     8.175|   8.175|   8.175|   8.175|         276|             1|\n",
      "|DE000A0JQ5U3|     M5Z|             MANZ AG|Common stock|     EUR|   2504345|2018-01-02|15:00|     34.15|    34.2|   34.15|    34.2|         305|             3|\n",
      "|DE000A0KEXC7|     V3S|VECTRON SYSTEMS  ...|Common stock|     EUR|   2504348|2018-01-02|15:00|        21|      21|      21|      21|         200|             1|\n",
      "+------------+--------+--------------------+------------+--------+----------+----------+-----+----------+--------+--------+--------+------------+--------------+\n",
      "only showing top 20 rows\n",
      "\n"
     ]
    }
   ],
   "source": [
    "data = spark.read.format(\"csv\").option(\"header\", \"true\").load(\"./data/2018-01-02/\")\n",
    "data.show()"
   ]
  },
  {
   "cell_type": "code",
   "execution_count": 18,
   "metadata": {},
   "outputs": [],
   "source": [
    "data.createOrReplaceTempView(\"data\")"
   ]
  },
  {
   "cell_type": "code",
   "execution_count": 25,
   "metadata": {},
   "outputs": [
    {
     "name": "stdout",
     "output_type": "stream",
     "text": [
      "+------------+----------+----------+--------+------------+\n",
      "|        ISIN|      Date|StartPrice|EndPrice|TradedVolume|\n",
      "+------------+----------+----------+--------+------------+\n",
      "|AT0000A0E9W5|2018-01-02|     19.19|   19.19|         100|\n",
      "|AT0000743059|2018-01-02|     53.28|   53.28|          18|\n",
      "|AT0000969985|2018-01-02|     24.15|   24.15|         401|\n",
      "|CA32076V1031|2018-01-02|      5.84|    5.84|         203|\n",
      "|DE0005933931|2018-01-02|    111.44|  111.42|         527|\n",
      "|LU0274211480|2018-01-02|    125.26|  125.32|        2465|\n",
      "|DE000A0B9N37|2018-01-02|         9|       9|        1050|\n",
      "|DE000A0CAYB2|2018-01-02|      73.7|    73.7|          63|\n",
      "|DE000A0D6554|2018-01-02|     9.206|     9.2|        1426|\n",
      "|DE000A0D8QZ7|2018-01-02|     28.63|   28.63|         750|\n",
      "+------------+----------+----------+--------+------------+\n",
      "\n"
     ]
    }
   ],
   "source": [
    "spark.sql(\"SELECT ISIN, Date, StartPrice, EndPrice, TradedVolume FROM data LIMIT 10\").show()"
   ]
  },
  {
   "cell_type": "code",
   "execution_count": 22,
   "metadata": {},
   "outputs": [
    {
     "name": "stdout",
     "output_type": "stream",
     "text": [
      "root\n",
      " |-- ISIN: string (nullable = true)\n",
      " |-- Mnemonic: string (nullable = true)\n",
      " |-- SecurityDesc: string (nullable = true)\n",
      " |-- SecurityType: string (nullable = true)\n",
      " |-- Currency: string (nullable = true)\n",
      " |-- SecurityID: string (nullable = true)\n",
      " |-- Date: string (nullable = true)\n",
      " |-- Time: string (nullable = true)\n",
      " |-- StartPrice: string (nullable = true)\n",
      " |-- MaxPrice: string (nullable = true)\n",
      " |-- MinPrice: string (nullable = true)\n",
      " |-- EndPrice: string (nullable = true)\n",
      " |-- TradedVolume: string (nullable = true)\n",
      " |-- NumberOfTrades: string (nullable = true)\n",
      "\n"
     ]
    }
   ],
   "source": [
    "data.printSchema()"
   ]
  },
  {
   "cell_type": "code",
   "execution_count": 28,
   "metadata": {},
   "outputs": [
    {
     "name": "stdout",
     "output_type": "stream",
     "text": [
      "+-----------+--------------------+\n",
      "|count(ISIN)|count(DISTINCT ISIN)|\n",
      "+-----------+--------------------+\n",
      "|      68154|                1568|\n",
      "+-----------+--------------------+\n",
      "\n"
     ]
    }
   ],
   "source": [
    "spark.sql(\"SELECT count(ISIN), count(distinct(ISIN)) FROM data\").show()"
   ]
  },
  {
   "cell_type": "code",
   "execution_count": 31,
   "metadata": {},
   "outputs": [
    {
     "name": "stdout",
     "output_type": "stream",
     "text": [
      "+------------+----------+-----+----------+--------+------------+\n",
      "|        ISIN|      Date| Time|StartPrice|EndPrice|TradedVolume|\n",
      "+------------+----------+-----+----------+--------+------------+\n",
      "|DE000A0H08M3|2018-01-02|15:00|    31.575|   31.57|        3383|\n",
      "|DE000A0H08M3|2018-01-02|15:01|    31.585|  31.585|        1091|\n",
      "|DE000A0H08M3|2018-01-02|15:02|    31.595|  31.595|        2783|\n",
      "|DE000A0H08M3|2018-01-02|15:03|     31.59|   31.59|         300|\n",
      "|DE000A0H08M3|2018-01-02|15:04|     31.59|  31.605|        3623|\n",
      "|DE000A0H08M3|2018-01-02|15:06|      31.6|    31.6|        2183|\n",
      "|DE000A0H08M3|2018-01-02|15:08|    31.595|  31.595|        2182|\n",
      "|DE000A0H08M3|2018-01-02|15:09|     31.61|  31.615|        2183|\n",
      "|DE000A0H08M3|2018-01-02|15:11|    31.595|   31.59|        2940|\n",
      "|DE000A0H08M3|2018-01-02|15:12|    31.605|    31.6|        1200|\n",
      "|DE000A0H08M3|2018-01-02|15:13|    31.605|  31.615|        4147|\n",
      "|DE000A0H08M3|2018-01-02|15:14|    31.615|  31.615|         186|\n",
      "|DE000A0H08M3|2018-01-02|15:16|     31.61|  31.605|        3766|\n",
      "|DE000A0H08M3|2018-01-02|15:18|     31.64|  31.635|        2210|\n",
      "|DE000A0H08M3|2018-01-02|15:19|     31.64|   31.64|         747|\n",
      "|DE000A0H08M3|2018-01-02|15:20|     31.65|  31.645|        2498|\n",
      "|DE000A0H08M3|2018-01-02|15:21|     31.66|   31.66|         764|\n",
      "|DE000A0H08M3|2018-01-02|15:23|    31.655|   31.67|        2510|\n",
      "|DE000A0H08M3|2018-01-02|15:24|     31.64|   31.64|        2182|\n",
      "|DE000A0H08M3|2018-01-02|15:26|     31.63|  31.625|        2815|\n",
      "+------------+----------+-----+----------+--------+------------+\n",
      "only showing top 20 rows\n",
      "\n"
     ]
    }
   ],
   "source": [
    "spark.sql(\"SELECT ISIN, Date, Time, StartPrice, EndPrice, TradedVolume FROM data WHERE ISIN = 'DE000A0H08M3'\").show()"
   ]
  },
  {
   "cell_type": "code",
   "execution_count": 3,
   "metadata": {},
   "outputs": [
    {
     "name": "stdout",
     "output_type": "stream",
     "text": [
      "   Total Size: 1.9 GiB\r\n"
     ]
    }
   ],
   "source": [
    "! aws s3 ls s3://deutsche-boerse-xetra-pds/2018 --summarize --human-readable --recursive | grep \"Total Size\""
   ]
  },
  {
   "cell_type": "code",
   "execution_count": 4,
   "metadata": {},
   "outputs": [
    {
     "name": "stdout",
     "output_type": "stream",
     "text": [
      "   Total Size: 1.5 GiB\r\n"
     ]
    }
   ],
   "source": [
    "! aws s3 ls s3://deutsche-boerse-xetra-pds/2019 --summarize --human-readable --recursive | grep \"Total Size\""
   ]
  },
  {
   "cell_type": "code",
   "execution_count": 5,
   "metadata": {},
   "outputs": [
    {
     "name": "stdout",
     "output_type": "stream",
     "text": [
      "2018-04-04 20:03:46        136 2018-01-03_BINS_XETR00.csv\r\n",
      "2018-04-04 20:03:46        136 2018-01-03_BINS_XETR01.csv\r\n",
      "2018-04-04 20:03:46        136 2018-01-03_BINS_XETR02.csv\r\n",
      "2018-04-04 20:03:46        136 2018-01-03_BINS_XETR03.csv\r\n",
      "2018-04-04 20:03:46        136 2018-01-03_BINS_XETR04.csv\r\n",
      "2018-04-04 20:03:46        136 2018-01-03_BINS_XETR05.csv\r\n",
      "2018-04-04 20:03:46        136 2018-01-03_BINS_XETR06.csv\r\n",
      "2018-04-04 20:03:47        136 2018-01-03_BINS_XETR07.csv\r\n",
      "2018-04-04 20:03:46     961262 2018-01-03_BINS_XETR08.csv\r\n",
      "2018-04-04 20:03:47     987516 2018-01-03_BINS_XETR09.csv\r\n",
      "2018-04-04 20:03:48     917254 2018-01-03_BINS_XETR10.csv\r\n",
      "2018-04-04 20:03:48     865492 2018-01-03_BINS_XETR11.csv\r\n",
      "2018-04-04 20:03:48     786016 2018-01-03_BINS_XETR12.csv\r\n",
      "2018-04-04 20:03:48     857821 2018-01-03_BINS_XETR13.csv\r\n",
      "2018-04-04 20:03:49    1045421 2018-01-03_BINS_XETR14.csv\r\n",
      "2018-04-04 20:03:49    1193576 2018-01-03_BINS_XETR15.csv\r\n",
      "2018-04-04 20:03:49     758825 2018-01-03_BINS_XETR16.csv\r\n",
      "2018-04-04 20:03:50        136 2018-01-03_BINS_XETR17.csv\r\n",
      "2018-04-04 20:03:50        136 2018-01-03_BINS_XETR18.csv\r\n",
      "2018-04-04 20:03:50        136 2018-01-03_BINS_XETR19.csv\r\n",
      "2018-04-04 20:03:50       1650 2018-01-03_BINS_XETR20.csv\r\n",
      "2018-04-04 20:03:50        136 2018-01-03_BINS_XETR21.csv\r\n",
      "2018-04-04 20:03:50        136 2018-01-03_BINS_XETR22.csv\r\n",
      "2018-04-04 20:03:50        136 2018-01-03_BINS_XETR23.csv\r\n"
     ]
    }
   ],
   "source": [
    "! aws s3 ls s3://deutsche-boerse-xetra-pds/2018-01-03/"
   ]
  },
  {
   "cell_type": "code",
   "execution_count": 6,
   "metadata": {},
   "outputs": [
    {
     "name": "stdout",
     "output_type": "stream",
     "text": [
      "download: s3://deutsche-boerse-xetra-pds/2018-01-03/2018-01-03_BINS_XETR00.csv to data/2018-01-03/2018-01-03_BINS_XETR00.csv\n",
      "download: s3://deutsche-boerse-xetra-pds/2018-01-03/2018-01-03_BINS_XETR02.csv to data/2018-01-03/2018-01-03_BINS_XETR02.csv\n",
      "download: s3://deutsche-boerse-xetra-pds/2018-01-03/2018-01-03_BINS_XETR01.csv to data/2018-01-03/2018-01-03_BINS_XETR01.csv\n",
      "download: s3://deutsche-boerse-xetra-pds/2018-01-03/2018-01-03_BINS_XETR06.csv to data/2018-01-03/2018-01-03_BINS_XETR06.csv\n",
      "download: s3://deutsche-boerse-xetra-pds/2018-01-03/2018-01-03_BINS_XETR07.csv to data/2018-01-03/2018-01-03_BINS_XETR07.csv\n",
      "download: s3://deutsche-boerse-xetra-pds/2018-01-03/2018-01-03_BINS_XETR05.csv to data/2018-01-03/2018-01-03_BINS_XETR05.csv\n",
      "download: s3://deutsche-boerse-xetra-pds/2018-01-03/2018-01-03_BINS_XETR04.csv to data/2018-01-03/2018-01-03_BINS_XETR04.csv\n",
      "download: s3://deutsche-boerse-xetra-pds/2018-01-03/2018-01-03_BINS_XETR18.csv to data/2018-01-03/2018-01-03_BINS_XETR18.csv\n",
      "download: s3://deutsche-boerse-xetra-pds/2018-01-03/2018-01-03_BINS_XETR03.csv to data/2018-01-03/2018-01-03_BINS_XETR03.csv\n",
      "download: s3://deutsche-boerse-xetra-pds/2018-01-03/2018-01-03_BINS_XETR17.csv to data/2018-01-03/2018-01-03_BINS_XETR17.csv\n",
      "download: s3://deutsche-boerse-xetra-pds/2018-01-03/2018-01-03_BINS_XETR20.csv to data/2018-01-03/2018-01-03_BINS_XETR20.csv\n",
      "download: s3://deutsche-boerse-xetra-pds/2018-01-03/2018-01-03_BINS_XETR21.csv to data/2018-01-03/2018-01-03_BINS_XETR21.csv\n",
      "download: s3://deutsche-boerse-xetra-pds/2018-01-03/2018-01-03_BINS_XETR22.csv to data/2018-01-03/2018-01-03_BINS_XETR22.csv\n",
      "download: s3://deutsche-boerse-xetra-pds/2018-01-03/2018-01-03_BINS_XETR23.csv to data/2018-01-03/2018-01-03_BINS_XETR23.csv\n",
      "download: s3://deutsche-boerse-xetra-pds/2018-01-03/2018-01-03_BINS_XETR19.csv to data/2018-01-03/2018-01-03_BINS_XETR19.csv\n",
      "download: s3://deutsche-boerse-xetra-pds/2018-01-03/2018-01-03_BINS_XETR08.csv to data/2018-01-03/2018-01-03_BINS_XETR08.csv\n",
      "download: s3://deutsche-boerse-xetra-pds/2018-01-03/2018-01-03_BINS_XETR16.csv to data/2018-01-03/2018-01-03_BINS_XETR16.csv\n",
      "download: s3://deutsche-boerse-xetra-pds/2018-01-03/2018-01-03_BINS_XETR13.csv to data/2018-01-03/2018-01-03_BINS_XETR13.csv\n",
      "download: s3://deutsche-boerse-xetra-pds/2018-01-03/2018-01-03_BINS_XETR12.csv to data/2018-01-03/2018-01-03_BINS_XETR12.csv\n",
      "download: s3://deutsche-boerse-xetra-pds/2018-01-03/2018-01-03_BINS_XETR11.csv to data/2018-01-03/2018-01-03_BINS_XETR11.csv\n",
      "download: s3://deutsche-boerse-xetra-pds/2018-01-03/2018-01-03_BINS_XETR10.csv to data/2018-01-03/2018-01-03_BINS_XETR10.csv\n",
      "download: s3://deutsche-boerse-xetra-pds/2018-01-03/2018-01-03_BINS_XETR09.csv to data/2018-01-03/2018-01-03_BINS_XETR09.csv\n",
      "download: s3://deutsche-boerse-xetra-pds/2018-01-03/2018-01-03_BINS_XETR14.csv to data/2018-01-03/2018-01-03_BINS_XETR14.csv\n",
      "download: s3://deutsche-boerse-xetra-pds/2018-01-03/2018-01-03_BINS_XETR15.csv to data/2018-01-03/2018-01-03_BINS_XETR15.csv\n"
     ]
    }
   ],
   "source": [
    "! aws s3 cp s3://deutsche-boerse-xetra-pds/2018-01-03/ ./data/2018-01-03/ --recursive"
   ]
  },
  {
   "cell_type": "code",
   "execution_count": 26,
   "metadata": {},
   "outputs": [
    {
     "data": {
      "text/plain": [
       "StructType(List(StructField(ISIN,StringType,true),StructField(Mnemonic,StringType,true),StructField(SecurityDesc,StringType,true),StructField(SecurityType,StringType,true),StructField(Currency,StringType,true),StructField(SecurityID,StringType,true),StructField(Date,StringType,true),StructField(Time,StringType,true),StructField(StartPrice,StringType,true),StructField(MaxPrice,StringType,true),StructField(MinPrice,StringType,true),StructField(EndPrice,StringType,true),StructField(TradedVolume,StringType,true),StructField(NumberOfTrades,StringType,true)))"
      ]
     },
     "execution_count": 26,
     "metadata": {},
     "output_type": "execute_result"
    }
   ],
   "source": [
    "# TODO can be omitted, because Spark infers schema automatically\n",
    "\n",
    "# saving and loading schemas\n",
    "# source: https://stackoverflow.com/questions/56707401/save-schema-of-dataframe-in-s3-location\n",
    "\n",
    "# funcs\n",
    "from pyspark.sql.functions import *\n",
    "from pyspark.sql.types import *\n",
    "\n",
    "schema = data.schema.json()\n",
    "\n",
    "import json\n",
    "\n",
    "with open('schema/schema.json', 'w+') as F:  \n",
    "    json.dump(schema, F)\n",
    "\n",
    "with open('schema/schema.json', 'r') as F:  \n",
    "    saved_schema = json.load(F)\n",
    "\n",
    "saved_schema\n",
    "\n",
    "new_schema = StructType.fromJson(json.loads(saved_schema))\n",
    "\n",
    "new_schema"
   ]
  },
  {
   "cell_type": "code",
   "execution_count": 41,
   "metadata": {},
   "outputs": [
    {
     "name": "stdout",
     "output_type": "stream",
     "text": [
      "root\n",
      " |-- ISIN: string (nullable = true)\n",
      " |-- Mnemonic: string (nullable = true)\n",
      " |-- SecurityDesc: string (nullable = true)\n",
      " |-- SecurityType: string (nullable = true)\n",
      " |-- Currency: string (nullable = true)\n",
      " |-- SecurityID: integer (nullable = true)\n",
      " |-- Date: timestamp (nullable = true)\n",
      " |-- Time: string (nullable = true)\n",
      " |-- StartPrice: double (nullable = true)\n",
      " |-- MaxPrice: double (nullable = true)\n",
      " |-- MinPrice: double (nullable = true)\n",
      " |-- EndPrice: double (nullable = true)\n",
      " |-- TradedVolume: integer (nullable = true)\n",
      " |-- NumberOfTrades: integer (nullable = true)\n",
      "\n"
     ]
    }
   ],
   "source": [
    "full_data = data = spark.read.format(\"csv\").option(\"header\", \"true\").option(\"inferSchema\", \"true\").load(\"./data/*\")\n",
    "full_data.printSchema()"
   ]
  },
  {
   "cell_type": "code",
   "execution_count": 42,
   "metadata": {},
   "outputs": [],
   "source": [
    "data.createOrReplaceTempView(\"full_data\")"
   ]
  },
  {
   "cell_type": "code",
   "execution_count": 52,
   "metadata": {},
   "outputs": [
    {
     "name": "stdout",
     "output_type": "stream",
     "text": [
      "+------------+-------------------+--------+\n",
      "|        ISIN|               Date|count(1)|\n",
      "+------------+-------------------+--------+\n",
      "|DE000A0H08M3|2018-01-02 00:00:00|     167|\n",
      "|DE000A0H08M3|2018-01-03 00:00:00|      87|\n",
      "+------------+-------------------+--------+\n",
      "\n"
     ]
    }
   ],
   "source": [
    "spark.sql(\"SELECT ISIN, Date, COUNT(1) FROM full_data WHERE ISIN = 'DE000A0H08M3' GROUP BY 1,2 ORDER BY 2\").show()"
   ]
  },
  {
   "cell_type": "code",
   "execution_count": 71,
   "metadata": {},
   "outputs": [
    {
     "name": "stdout",
     "output_type": "stream",
     "text": [
      "+------------+-------------------+-----+----------+--------+\n",
      "|        ISIN|               Date| Time|StartPrice|EndPrice|\n",
      "+------------+-------------------+-----+----------+--------+\n",
      "|DE000A0H08M3|2018-01-02 00:00:00|08:09|     31.61|   31.61|\n",
      "|DE000A0H08M3|2018-01-02 00:00:00|08:12|     31.66|  31.665|\n",
      "|DE000A0H08M3|2018-01-02 00:00:00|08:19|    31.705|  31.705|\n",
      "|DE000A0H08M3|2018-01-02 00:00:00|08:41|      31.6|    31.6|\n",
      "|DE000A0H08M3|2018-01-02 00:00:00|08:52|    31.575|  31.555|\n",
      "|DE000A0H08M3|2018-01-02 00:00:00|08:54|     31.56|   31.56|\n",
      "|DE000A0H08M3|2018-01-02 00:00:00|09:06|    31.605|  31.605|\n",
      "|DE000A0H08M3|2018-01-02 00:00:00|09:07|     31.62|   31.62|\n",
      "|DE000A0H08M3|2018-01-02 00:00:00|09:10|    31.635|  31.635|\n",
      "|DE000A0H08M3|2018-01-02 00:00:00|09:17|     31.64|   31.64|\n",
      "|DE000A0H08M3|2018-01-02 00:00:00|09:39|     31.63|   31.63|\n",
      "|DE000A0H08M3|2018-01-02 00:00:00|09:53|    31.595|  31.595|\n",
      "|DE000A0H08M3|2018-01-02 00:00:00|09:57|    31.585|   31.58|\n",
      "|DE000A0H08M3|2018-01-02 00:00:00|10:36|     31.55|   31.55|\n",
      "|DE000A0H08M3|2018-01-02 00:00:00|10:52|     31.55|   31.55|\n",
      "|DE000A0H08M3|2018-01-02 00:00:00|11:00|     31.55|   31.55|\n",
      "|DE000A0H08M3|2018-01-02 00:00:00|11:04|    31.565|  31.565|\n",
      "|DE000A0H08M3|2018-01-02 00:00:00|11:08|    31.565|  31.565|\n",
      "|DE000A0H08M3|2018-01-02 00:00:00|11:13|    31.565|   31.56|\n",
      "|DE000A0H08M3|2018-01-02 00:00:00|11:23|    31.555|  31.555|\n",
      "|DE000A0H08M3|2018-01-02 00:00:00|11:30|     31.56|   31.56|\n",
      "|DE000A0H08M3|2018-01-02 00:00:00|11:49|    31.575|  31.575|\n",
      "|DE000A0H08M3|2018-01-02 00:00:00|11:54|     31.58|   31.58|\n",
      "|DE000A0H08M3|2018-01-02 00:00:00|12:01|      31.6|    31.6|\n",
      "|DE000A0H08M3|2018-01-02 00:00:00|12:15|     31.62|   31.62|\n",
      "|DE000A0H08M3|2018-01-02 00:00:00|12:49|      31.6|    31.6|\n",
      "|DE000A0H08M3|2018-01-02 00:00:00|13:11|     31.59|   31.59|\n",
      "|DE000A0H08M3|2018-01-02 00:00:00|13:13|     31.59|   31.59|\n",
      "|DE000A0H08M3|2018-01-02 00:00:00|13:15|     31.58|   31.58|\n",
      "|DE000A0H08M3|2018-01-02 00:00:00|13:16|     31.58|   31.58|\n",
      "|DE000A0H08M3|2018-01-02 00:00:00|13:18|     31.59|  31.585|\n",
      "|DE000A0H08M3|2018-01-02 00:00:00|13:19|     31.59|   31.59|\n",
      "|DE000A0H08M3|2018-01-02 00:00:00|13:20|     31.57|   31.57|\n",
      "|DE000A0H08M3|2018-01-02 00:00:00|13:21|    31.585|  31.585|\n",
      "|DE000A0H08M3|2018-01-02 00:00:00|13:22|     31.58|   31.58|\n",
      "|DE000A0H08M3|2018-01-02 00:00:00|13:24|     31.58|   31.58|\n",
      "|DE000A0H08M3|2018-01-02 00:00:00|13:26|     31.58|   31.58|\n",
      "|DE000A0H08M3|2018-01-02 00:00:00|13:27|     31.58|   31.58|\n",
      "|DE000A0H08M3|2018-01-02 00:00:00|13:28|    31.595|  31.595|\n",
      "|DE000A0H08M3|2018-01-02 00:00:00|13:31|      31.6|    31.6|\n",
      "|DE000A0H08M3|2018-01-02 00:00:00|13:32|     31.59|   31.59|\n",
      "|DE000A0H08M3|2018-01-02 00:00:00|13:34|     31.59|  31.585|\n",
      "|DE000A0H08M3|2018-01-02 00:00:00|13:35|     31.57|   31.57|\n",
      "|DE000A0H08M3|2018-01-02 00:00:00|13:36|     31.57|   31.57|\n",
      "|DE000A0H08M3|2018-01-02 00:00:00|13:37|     31.57|   31.57|\n",
      "|DE000A0H08M3|2018-01-02 00:00:00|13:38|    31.565|  31.565|\n",
      "|DE000A0H08M3|2018-01-02 00:00:00|13:40|    31.575|  31.575|\n",
      "|DE000A0H08M3|2018-01-02 00:00:00|13:42|    31.565|  31.565|\n",
      "|DE000A0H08M3|2018-01-02 00:00:00|13:43|    31.565|  31.565|\n",
      "|DE000A0H08M3|2018-01-02 00:00:00|13:44|     31.56|   31.56|\n",
      "|DE000A0H08M3|2018-01-02 00:00:00|13:46|    31.555|   31.55|\n",
      "|DE000A0H08M3|2018-01-02 00:00:00|13:47|    31.555|  31.555|\n",
      "|DE000A0H08M3|2018-01-02 00:00:00|13:48|    31.555|  31.555|\n",
      "|DE000A0H08M3|2018-01-02 00:00:00|13:50|    31.555|  31.555|\n",
      "|DE000A0H08M3|2018-01-02 00:00:00|13:51|    31.555|  31.555|\n",
      "|DE000A0H08M3|2018-01-02 00:00:00|13:52|     31.57|   31.57|\n",
      "|DE000A0H08M3|2018-01-02 00:00:00|13:53|    31.555|  31.555|\n",
      "|DE000A0H08M3|2018-01-02 00:00:00|13:54|     31.56|   31.56|\n",
      "|DE000A0H08M3|2018-01-02 00:00:00|13:56|    31.555|  31.555|\n",
      "|DE000A0H08M3|2018-01-02 00:00:00|13:57|     31.56|   31.56|\n",
      "|DE000A0H08M3|2018-01-02 00:00:00|13:59|    31.555|  31.555|\n",
      "|DE000A0H08M3|2018-01-02 00:00:00|14:00|    31.555|  31.555|\n",
      "|DE000A0H08M3|2018-01-02 00:00:00|14:02|     31.56|   31.56|\n",
      "|DE000A0H08M3|2018-01-02 00:00:00|14:04|     31.56|   31.56|\n",
      "|DE000A0H08M3|2018-01-02 00:00:00|14:05|    31.565|   31.58|\n",
      "|DE000A0H08M3|2018-01-02 00:00:00|14:08|     31.58|  31.595|\n",
      "|DE000A0H08M3|2018-01-02 00:00:00|14:09|      31.6|    31.6|\n",
      "|DE000A0H08M3|2018-01-02 00:00:00|14:11|     31.59|   31.59|\n",
      "|DE000A0H08M3|2018-01-02 00:00:00|14:12|    31.595|  31.595|\n",
      "|DE000A0H08M3|2018-01-02 00:00:00|14:13|     31.59|   31.59|\n",
      "|DE000A0H08M3|2018-01-02 00:00:00|14:14|     31.59|   31.59|\n",
      "|DE000A0H08M3|2018-01-02 00:00:00|14:15|    31.605|  31.605|\n",
      "|DE000A0H08M3|2018-01-02 00:00:00|14:16|    31.605|  31.605|\n",
      "|DE000A0H08M3|2018-01-02 00:00:00|14:17|      31.6|    31.6|\n",
      "|DE000A0H08M3|2018-01-02 00:00:00|14:18|    31.595|  31.595|\n",
      "|DE000A0H08M3|2018-01-02 00:00:00|14:20|     31.59|   31.59|\n",
      "|DE000A0H08M3|2018-01-02 00:00:00|14:21|     31.59|   31.59|\n",
      "|DE000A0H08M3|2018-01-02 00:00:00|14:23|     31.59|   31.59|\n",
      "|DE000A0H08M3|2018-01-02 00:00:00|14:24|     31.59|   31.59|\n",
      "|DE000A0H08M3|2018-01-02 00:00:00|14:26|      31.6|  31.605|\n",
      "|DE000A0H08M3|2018-01-02 00:00:00|14:29|    31.595|  31.595|\n",
      "|DE000A0H08M3|2018-01-02 00:00:00|14:30|     31.59|   31.57|\n",
      "|DE000A0H08M3|2018-01-02 00:00:00|14:32|    31.565|   31.58|\n",
      "|DE000A0H08M3|2018-01-02 00:00:00|14:33|     31.57|   31.57|\n",
      "|DE000A0H08M3|2018-01-02 00:00:00|14:36|    31.585|  31.585|\n",
      "|DE000A0H08M3|2018-01-02 00:00:00|14:37|     31.57|  31.545|\n",
      "|DE000A0H08M3|2018-01-02 00:00:00|14:38|    31.535|  31.535|\n",
      "|DE000A0H08M3|2018-01-02 00:00:00|14:40|    31.565|  31.535|\n",
      "|DE000A0H08M3|2018-01-02 00:00:00|14:41|    31.535|  31.535|\n",
      "|DE000A0H08M3|2018-01-02 00:00:00|14:42|     31.54|   31.54|\n",
      "|DE000A0H08M3|2018-01-02 00:00:00|14:43|    31.535|  31.535|\n",
      "|DE000A0H08M3|2018-01-02 00:00:00|14:45|    31.505|  31.505|\n",
      "|DE000A0H08M3|2018-01-02 00:00:00|14:47|      31.5|    31.5|\n",
      "|DE000A0H08M3|2018-01-02 00:00:00|14:48|     31.52|   31.52|\n",
      "|DE000A0H08M3|2018-01-02 00:00:00|14:50|    31.525|  31.525|\n",
      "|DE000A0H08M3|2018-01-02 00:00:00|14:51|     31.53|   31.53|\n",
      "|DE000A0H08M3|2018-01-02 00:00:00|14:53|    31.545|  31.545|\n",
      "|DE000A0H08M3|2018-01-02 00:00:00|14:54|     31.56|   31.56|\n",
      "|DE000A0H08M3|2018-01-02 00:00:00|14:55|     31.56|  31.555|\n",
      "|DE000A0H08M3|2018-01-02 00:00:00|14:56|    31.555|  31.555|\n",
      "|DE000A0H08M3|2018-01-02 00:00:00|14:57|     31.57|   31.57|\n",
      "|DE000A0H08M3|2018-01-02 00:00:00|14:58|    31.575|   31.57|\n",
      "|DE000A0H08M3|2018-01-02 00:00:00|14:59|    31.565|  31.565|\n",
      "|DE000A0H08M3|2018-01-02 00:00:00|15:00|    31.575|   31.57|\n",
      "|DE000A0H08M3|2018-01-02 00:00:00|15:01|    31.585|  31.585|\n",
      "|DE000A0H08M3|2018-01-02 00:00:00|15:02|    31.595|  31.595|\n",
      "|DE000A0H08M3|2018-01-02 00:00:00|15:03|     31.59|   31.59|\n",
      "|DE000A0H08M3|2018-01-02 00:00:00|15:04|     31.59|  31.605|\n",
      "|DE000A0H08M3|2018-01-02 00:00:00|15:06|      31.6|    31.6|\n",
      "|DE000A0H08M3|2018-01-02 00:00:00|15:08|    31.595|  31.595|\n",
      "|DE000A0H08M3|2018-01-02 00:00:00|15:09|     31.61|  31.615|\n",
      "|DE000A0H08M3|2018-01-02 00:00:00|15:11|    31.595|   31.59|\n",
      "|DE000A0H08M3|2018-01-02 00:00:00|15:12|    31.605|    31.6|\n",
      "|DE000A0H08M3|2018-01-02 00:00:00|15:13|    31.605|  31.615|\n",
      "|DE000A0H08M3|2018-01-02 00:00:00|15:14|    31.615|  31.615|\n",
      "|DE000A0H08M3|2018-01-02 00:00:00|15:16|     31.61|  31.605|\n",
      "|DE000A0H08M3|2018-01-02 00:00:00|15:18|     31.64|  31.635|\n",
      "|DE000A0H08M3|2018-01-02 00:00:00|15:19|     31.64|   31.64|\n",
      "|DE000A0H08M3|2018-01-02 00:00:00|15:20|     31.65|  31.645|\n",
      "|DE000A0H08M3|2018-01-02 00:00:00|15:21|     31.66|   31.66|\n",
      "|DE000A0H08M3|2018-01-02 00:00:00|15:23|    31.655|   31.67|\n",
      "|DE000A0H08M3|2018-01-02 00:00:00|15:24|     31.64|   31.64|\n",
      "|DE000A0H08M3|2018-01-02 00:00:00|15:26|     31.63|  31.625|\n",
      "|DE000A0H08M3|2018-01-02 00:00:00|15:28|     31.62|  31.635|\n",
      "|DE000A0H08M3|2018-01-02 00:00:00|15:29|     31.64|   31.64|\n",
      "|DE000A0H08M3|2018-01-02 00:00:00|15:30|    31.645|  31.645|\n",
      "|DE000A0H08M3|2018-01-02 00:00:00|15:31|     31.65|   31.65|\n",
      "|DE000A0H08M3|2018-01-02 00:00:00|15:32|     31.64|  31.635|\n",
      "|DE000A0H08M3|2018-01-02 00:00:00|15:35|     31.63|   31.63|\n",
      "|DE000A0H08M3|2018-01-02 00:00:00|15:36|     31.65|  31.655|\n",
      "|DE000A0H08M3|2018-01-02 00:00:00|15:38|     31.64|   31.64|\n",
      "|DE000A0H08M3|2018-01-02 00:00:00|15:39|     31.63|   31.63|\n",
      "|DE000A0H08M3|2018-01-02 00:00:00|15:41|    31.625|  31.625|\n",
      "|DE000A0H08M3|2018-01-02 00:00:00|15:42|    31.615|  31.615|\n",
      "|DE000A0H08M3|2018-01-02 00:00:00|15:43|     31.61|   31.61|\n",
      "|DE000A0H08M3|2018-01-02 00:00:00|15:45|    31.625|  31.625|\n",
      "|DE000A0H08M3|2018-01-02 00:00:00|15:46|     31.62|   31.62|\n",
      "|DE000A0H08M3|2018-01-02 00:00:00|15:47|    31.615|  31.615|\n",
      "|DE000A0H08M3|2018-01-02 00:00:00|15:48|    31.615|  31.615|\n",
      "|DE000A0H08M3|2018-01-02 00:00:00|15:49|    31.625|  31.625|\n",
      "|DE000A0H08M3|2018-01-02 00:00:00|15:50|     31.63|  31.635|\n",
      "|DE000A0H08M3|2018-01-02 00:00:00|15:52|     31.62|  31.615|\n",
      "|DE000A0H08M3|2018-01-02 00:00:00|15:54|    31.635|   31.65|\n",
      "|DE000A0H08M3|2018-01-02 00:00:00|15:55|    31.655|   31.66|\n",
      "|DE000A0H08M3|2018-01-02 00:00:00|15:56|    31.665|  31.665|\n",
      "|DE000A0H08M3|2018-01-02 00:00:00|15:59|    31.645|  31.645|\n",
      "|DE000A0H08M3|2018-01-02 00:00:00|16:00|     31.63|  31.625|\n",
      "|DE000A0H08M3|2018-01-02 00:00:00|16:02|     31.64|  31.635|\n",
      "|DE000A0H08M3|2018-01-02 00:00:00|16:04|     31.63|   31.63|\n",
      "|DE000A0H08M3|2018-01-02 00:00:00|16:05|    31.615|  31.615|\n",
      "|DE000A0H08M3|2018-01-02 00:00:00|16:06|     31.62|   31.62|\n",
      "|DE000A0H08M3|2018-01-02 00:00:00|16:07|     31.61|  31.605|\n",
      "|DE000A0H08M3|2018-01-02 00:00:00|16:08|     31.61|   31.61|\n",
      "|DE000A0H08M3|2018-01-02 00:00:00|16:09|     31.62|  31.615|\n",
      "|DE000A0H08M3|2018-01-02 00:00:00|16:10|     31.63|  31.635|\n",
      "|DE000A0H08M3|2018-01-02 00:00:00|16:12|     31.63|   31.63|\n",
      "|DE000A0H08M3|2018-01-02 00:00:00|16:13|    31.645|  31.655|\n",
      "|DE000A0H08M3|2018-01-02 00:00:00|16:14|     31.66|  31.665|\n",
      "|DE000A0H08M3|2018-01-02 00:00:00|16:16|     31.66|   31.67|\n",
      "|DE000A0H08M3|2018-01-02 00:00:00|16:19|     31.65|   31.65|\n",
      "|DE000A0H08M3|2018-01-02 00:00:00|16:20|    31.615|  31.615|\n",
      "|DE000A0H08M3|2018-01-02 00:00:00|16:22|     31.61|   31.59|\n",
      "|DE000A0H08M3|2018-01-02 00:00:00|16:23|    31.585|  31.585|\n",
      "|DE000A0H08M3|2018-01-02 00:00:00|16:24|    31.585|  31.585|\n",
      "|DE000A0H08M3|2018-01-02 00:00:00|16:26|     31.59|   31.59|\n",
      "|DE000A0H08M3|2018-01-02 00:00:00|16:28|    31.605|  31.605|\n",
      "|DE000A0H08M3|2018-01-02 00:00:00|16:29|      31.6|    31.6|\n",
      "|DE000A0H08M3|2018-01-03 00:00:00|08:35|    31.855|  31.855|\n",
      "|DE000A0H08M3|2018-01-03 00:00:00|08:40|    31.815|  31.815|\n",
      "|DE000A0H08M3|2018-01-03 00:00:00|08:47|     31.83|   31.83|\n",
      "|DE000A0H08M3|2018-01-03 00:00:00|08:48|     31.83|   31.83|\n",
      "|DE000A0H08M3|2018-01-03 00:00:00|09:00|     31.85|   31.85|\n",
      "|DE000A0H08M3|2018-01-03 00:00:00|09:03|    31.855|  31.855|\n",
      "|DE000A0H08M3|2018-01-03 00:00:00|09:11|     31.88|   31.88|\n",
      "|DE000A0H08M3|2018-01-03 00:00:00|09:12|     31.88|   31.88|\n",
      "|DE000A0H08M3|2018-01-03 00:00:00|09:20|    31.905|  31.905|\n",
      "|DE000A0H08M3|2018-01-03 00:00:00|09:24|     31.89|   31.89|\n",
      "|DE000A0H08M3|2018-01-03 00:00:00|09:32|    31.875|  31.875|\n",
      "|DE000A0H08M3|2018-01-03 00:00:00|09:34|     31.89|   31.89|\n",
      "|DE000A0H08M3|2018-01-03 00:00:00|09:35|    31.885|  31.885|\n",
      "|DE000A0H08M3|2018-01-03 00:00:00|09:36|     31.88|  31.875|\n",
      "|DE000A0H08M3|2018-01-03 00:00:00|09:40|    31.905|  31.905|\n",
      "|DE000A0H08M3|2018-01-03 00:00:00|09:41|     31.91|   31.91|\n",
      "|DE000A0H08M3|2018-01-03 00:00:00|09:44|     31.93|   31.93|\n",
      "|DE000A0H08M3|2018-01-03 00:00:00|09:47|    31.935|  31.935|\n",
      "|DE000A0H08M3|2018-01-03 00:00:00|09:50|    31.955|  31.955|\n",
      "|DE000A0H08M3|2018-01-03 00:00:00|09:54|    31.945|  31.945|\n",
      "|DE000A0H08M3|2018-01-03 00:00:00|09:56|    31.945|  31.945|\n",
      "|DE000A0H08M3|2018-01-03 00:00:00|09:57|    31.935|  31.935|\n",
      "|DE000A0H08M3|2018-01-03 00:00:00|10:00|    31.955|  31.955|\n",
      "|DE000A0H08M3|2018-01-03 00:00:00|10:12|    31.955|  31.955|\n",
      "|DE000A0H08M3|2018-01-03 00:00:00|10:19|     31.97|   31.97|\n",
      "|DE000A0H08M3|2018-01-03 00:00:00|10:21|    31.955|  31.955|\n",
      "|DE000A0H08M3|2018-01-03 00:00:00|10:28|     31.98|   31.98|\n",
      "|DE000A0H08M3|2018-01-03 00:00:00|10:29|    31.965|  31.965|\n",
      "|DE000A0H08M3|2018-01-03 00:00:00|10:32|    31.975|  31.975|\n",
      "|DE000A0H08M3|2018-01-03 00:00:00|10:34|     31.97|   31.97|\n",
      "|DE000A0H08M3|2018-01-03 00:00:00|10:40|     31.98|   31.98|\n",
      "|DE000A0H08M3|2018-01-03 00:00:00|10:44|    31.965|  31.965|\n",
      "|DE000A0H08M3|2018-01-03 00:00:00|10:47|    31.975|  31.975|\n",
      "|DE000A0H08M3|2018-01-03 00:00:00|10:49|    31.985|  31.985|\n",
      "|DE000A0H08M3|2018-01-03 00:00:00|10:50|     31.98|   31.98|\n",
      "|DE000A0H08M3|2018-01-03 00:00:00|10:55|    31.985|  31.985|\n",
      "|DE000A0H08M3|2018-01-03 00:00:00|10:57|     31.97|   31.97|\n",
      "|DE000A0H08M3|2018-01-03 00:00:00|11:06|    31.965|  31.965|\n",
      "|DE000A0H08M3|2018-01-03 00:00:00|11:16|    31.955|  31.955|\n",
      "|DE000A0H08M3|2018-01-03 00:00:00|11:17|     31.96|   31.96|\n",
      "|DE000A0H08M3|2018-01-03 00:00:00|11:30|    31.965|  31.965|\n",
      "|DE000A0H08M3|2018-01-03 00:00:00|12:15|    31.935|  31.935|\n",
      "|DE000A0H08M3|2018-01-03 00:00:00|12:26|    31.985|   31.99|\n",
      "|DE000A0H08M3|2018-01-03 00:00:00|12:27|     31.99|   31.99|\n",
      "|DE000A0H08M3|2018-01-03 00:00:00|13:12|     31.98|   31.99|\n",
      "|DE000A0H08M3|2018-01-03 00:00:00|13:14|     31.98|   31.96|\n",
      "|DE000A0H08M3|2018-01-03 00:00:00|13:15|    31.975|   31.96|\n",
      "|DE000A0H08M3|2018-01-03 00:00:00|13:17|    31.955|  31.955|\n",
      "|DE000A0H08M3|2018-01-03 00:00:00|13:18|     31.95|  31.945|\n",
      "|DE000A0H08M3|2018-01-03 00:00:00|13:19|    31.945|  31.945|\n",
      "|DE000A0H08M3|2018-01-03 00:00:00|13:35|    31.945|  31.945|\n",
      "|DE000A0H08M3|2018-01-03 00:00:00|13:36|    31.945|  31.945|\n",
      "|DE000A0H08M3|2018-01-03 00:00:00|13:38|    31.945|  31.945|\n",
      "|DE000A0H08M3|2018-01-03 00:00:00|13:39|    31.945|  31.945|\n",
      "|DE000A0H08M3|2018-01-03 00:00:00|13:40|     31.94|   31.94|\n",
      "|DE000A0H08M3|2018-01-03 00:00:00|13:42|    31.935|  31.935|\n",
      "|DE000A0H08M3|2018-01-03 00:00:00|13:43|     31.93|   31.93|\n",
      "|DE000A0H08M3|2018-01-03 00:00:00|13:44|     31.95|   31.95|\n",
      "|DE000A0H08M3|2018-01-03 00:00:00|13:45|    31.955|  31.955|\n",
      "|DE000A0H08M3|2018-01-03 00:00:00|13:49|     31.96|   31.96|\n",
      "|DE000A0H08M3|2018-01-03 00:00:00|13:50|     31.95|   31.95|\n",
      "|DE000A0H08M3|2018-01-03 00:00:00|13:51|     31.96|   31.96|\n",
      "|DE000A0H08M3|2018-01-03 00:00:00|13:52|     31.96|   31.96|\n",
      "|DE000A0H08M3|2018-01-03 00:00:00|13:53|     31.96|   31.96|\n",
      "|DE000A0H08M3|2018-01-03 00:00:00|13:55|    31.955|  31.955|\n",
      "|DE000A0H08M3|2018-01-03 00:00:00|13:56|     31.96|   31.96|\n",
      "|DE000A0H08M3|2018-01-03 00:00:00|13:57|     31.96|   31.96|\n",
      "|DE000A0H08M3|2018-01-03 00:00:00|13:59|     31.95|   31.95|\n",
      "|DE000A0H08M3|2018-01-03 00:00:00|14:20|     31.97|  31.975|\n",
      "|DE000A0H08M3|2018-01-03 00:00:00|14:23|    31.965|  31.965|\n",
      "|DE000A0H08M3|2018-01-03 00:00:00|14:25|    31.965|  31.965|\n",
      "|DE000A0H08M3|2018-01-03 00:00:00|14:34|     31.97|   31.97|\n",
      "|DE000A0H08M3|2018-01-03 00:00:00|14:36|    31.975|  31.975|\n",
      "|DE000A0H08M3|2018-01-03 00:00:00|14:37|    31.985|  31.985|\n",
      "|DE000A0H08M3|2018-01-03 00:00:00|14:44|    31.995|  31.995|\n",
      "|DE000A0H08M3|2018-01-03 00:00:00|14:50|      32.0|    32.0|\n",
      "|DE000A0H08M3|2018-01-03 00:00:00|14:51|    31.995|  31.995|\n",
      "|DE000A0H08M3|2018-01-03 00:00:00|14:52|    31.995|  31.995|\n",
      "|DE000A0H08M3|2018-01-03 00:00:00|14:54|      32.0|    32.0|\n",
      "|DE000A0H08M3|2018-01-03 00:00:00|14:56|     32.02|   32.02|\n",
      "|DE000A0H08M3|2018-01-03 00:00:00|15:04|     32.02|   32.02|\n",
      "|DE000A0H08M3|2018-01-03 00:00:00|15:25|    32.025|   32.03|\n",
      "|DE000A0H08M3|2018-01-03 00:00:00|15:33|     32.05|   32.05|\n",
      "|DE000A0H08M3|2018-01-03 00:00:00|15:34|     32.05|   32.05|\n",
      "|DE000A0H08M3|2018-01-03 00:00:00|15:42|     32.09|   32.09|\n",
      "|DE000A0H08M3|2018-01-03 00:00:00|16:20|     32.06|   32.06|\n",
      "|DE000A0H08M3|2018-01-03 00:00:00|16:28|    32.075|  32.075|\n",
      "+------------+-------------------+-----+----------+--------+\n",
      "\n"
     ]
    }
   ],
   "source": [
    "spark.sql(\"SELECT ISIN, Date, Time, StartPrice, EndPrice FROM full_data WHERE ISIN = 'DE000A0H08M3' ORDER BY Date, Time\").show(1000)"
   ]
  },
  {
   "cell_type": "code",
   "execution_count": 73,
   "metadata": {},
   "outputs": [
    {
     "name": "stdout",
     "output_type": "stream",
     "text": [
      "+------------------+-------------------+------------------------+---------------------+-----------------+\n",
      "|first(ISIN, false)|               Date|first(StartPrice, false)|last(EndPrice, false)|sum(TradedVolume)|\n",
      "+------------------+-------------------+------------------------+---------------------+-----------------+\n",
      "|      DE000A0H08M3|2018-01-03 00:00:00|                   32.02|               32.075|           251182|\n",
      "|      DE000A0H08M3|2018-01-02 00:00:00|                  31.575|                 31.6|           433588|\n",
      "+------------------+-------------------+------------------------+---------------------+-----------------+\n",
      "\n"
     ]
    }
   ],
   "source": [
    "spark.sql(\"SELECT first(ISIN), Date, first(StartPrice), last(EndPrice), sum(TradedVolume) FROM full_data WHERE ISIN = 'DE000A0H08M3' GROUP BY Date\").show()"
   ]
  },
  {
   "cell_type": "code",
   "execution_count": 106,
   "metadata": {},
   "outputs": [
    {
     "name": "stdout",
     "output_type": "stream",
     "text": [
      "+------------+-------------------+-----+----------+---------------+--------+------------+------------+\n",
      "|        ISIN|               Date| Time|StartPrice|FirstStartPrice|EndPrice|LastEndPrice|TradedVolume|\n",
      "+------------+-------------------+-----+----------+---------------+--------+------------+------------+\n",
      "|DE000A0H08M3|2018-01-03 00:00:00|08:35|    31.855|         31.855|  31.855|      31.855|         150|\n",
      "|DE000A0H08M3|2018-01-03 00:00:00|08:40|    31.815|         31.855|  31.815|      31.815|        1800|\n",
      "|DE000A0H08M3|2018-01-03 00:00:00|08:47|     31.83|         31.855|   31.83|       31.83|          32|\n",
      "|DE000A0H08M3|2018-01-03 00:00:00|08:48|     31.83|         31.855|   31.83|       31.83|         968|\n",
      "|DE000A0H08M3|2018-01-03 00:00:00|09:00|     31.85|         31.855|   31.85|       31.85|         783|\n",
      "|DE000A0H08M3|2018-01-02 00:00:00|08:09|     31.61|          31.61|   31.61|       31.61|           1|\n",
      "|DE000A0H08M3|2018-01-02 00:00:00|08:12|     31.66|          31.61|  31.665|      31.665|        3600|\n",
      "|DE000A0H08M3|2018-01-02 00:00:00|08:19|    31.705|          31.61|  31.705|      31.705|          75|\n",
      "|DE000A0H08M3|2018-01-02 00:00:00|08:41|      31.6|          31.61|    31.6|        31.6|        6641|\n",
      "|DE000A0H08M3|2018-01-02 00:00:00|08:52|    31.575|          31.61|  31.555|      31.555|       53702|\n",
      "|DE000A0H08M3|2018-01-02 00:00:00|08:54|     31.56|          31.61|   31.56|       31.56|       25000|\n",
      "+------------+-------------------+-----+----------+---------------+--------+------------+------------+\n",
      "\n"
     ]
    }
   ],
   "source": [
    "spark.sql(\"\"\"\n",
    "SELECT \n",
    "    ISIN, \n",
    "    Date, \n",
    "    Time, \n",
    "    StartPrice, \n",
    "    First_value(StartPrice) OVER ( partition BY Date ORDER BY Time) AS FirstStartPrice, \n",
    "    EndPrice, \n",
    "    Last_value(EndPrice) OVER ( partition BY Date ORDER BY Time) AS LastEndPrice, \n",
    "    TradedVolume\n",
    "FROM full_data \n",
    "WHERE ISIN = 'DE000A0H08M3' \n",
    "-- AND Date = '2018-01-03' \n",
    "AND TIME BETWEEN '08:00' AND '09:00'\"\"\").show()"
   ]
  },
  {
   "cell_type": "code",
   "execution_count": 107,
   "metadata": {},
   "outputs": [],
   "source": [
    "spark.sql(\"\"\"\n",
    "SELECT \n",
    "    ISIN, \n",
    "    Date, \n",
    "    Time, \n",
    "    StartPrice, \n",
    "    First_value(StartPrice) OVER ( partition BY Date ORDER BY Time) AS FirstStartPrice, \n",
    "    EndPrice, \n",
    "    Last_value(EndPrice) OVER ( partition BY Date ORDER BY Time) AS LastEndPrice, \n",
    "    TradedVolume,\n",
    "    ROW_NUMBER() OVER ( partition BY DATE ORDER BY Time DESC ) AS RK \n",
    "FROM full_data \n",
    "WHERE ISIN = 'DE000A0H08M3' \n",
    "-- AND Date = '2018-01-03' \n",
    "AND TIME BETWEEN '08:00' AND '09:00'\"\"\").createOrReplaceTempView(\"tmp\")"
   ]
  },
  {
   "cell_type": "code",
   "execution_count": 123,
   "metadata": {},
   "outputs": [
    {
     "name": "stdout",
     "output_type": "stream",
     "text": [
      "+------------+-------------------+------------+------------+-----------------+------------+\n",
      "|        ISIN|               Date|OpeningPrice|ClosingPrice|DailyTradedVolume|PctChgPrvCls|\n",
      "+------------+-------------------+------------+------------+-----------------+------------+\n",
      "|DE000A0H08M3|2018-01-02 00:00:00|       31.61|       31.56|            89019|        null|\n",
      "|DE000A0H08M3|2018-01-03 00:00:00|      31.855|       31.85|             3733|        0.92|\n",
      "+------------+-------------------+------------+------------+-----------------+------------+\n",
      "\n"
     ]
    }
   ],
   "source": [
    "spark.sql(\"\"\"\n",
    "SELECT \n",
    "    ISIN, \n",
    "    Date, \n",
    "    FirstStartPrice AS OpeningPrice, \n",
    "    last(LastEndPrice) AS ClosingPrice, \n",
    "    sum(TradedVolume) AS DailyTradedVolume, \n",
    "    format_number(last(LastEndPrice) / Lag(last(LastEndPrice)) OVER (partition BY ISIN ORDER BY Date) *100 -100,2) AS PctChgPrvCls \n",
    "FROM tmp \n",
    "GROUP BY 1, 2, 3\"\"\").show()"
   ]
  },
  {
   "cell_type": "code",
   "execution_count": null,
   "metadata": {},
   "outputs": [],
   "source": []
  }
 ],
 "metadata": {
  "kernelspec": {
   "display_name": "Python 3",
   "language": "python",
   "name": "python3"
  },
  "language_info": {
   "codemirror_mode": {
    "name": "ipython",
    "version": 3
   },
   "file_extension": ".py",
   "mimetype": "text/x-python",
   "name": "python",
   "nbconvert_exporter": "python",
   "pygments_lexer": "ipython3",
   "version": "3.7.3"
  }
 },
 "nbformat": 4,
 "nbformat_minor": 2
}
